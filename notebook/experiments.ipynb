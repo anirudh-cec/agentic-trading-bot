{
 "cells": [
  {
   "cell_type": "code",
   "execution_count": null,
   "id": "45ab947f",
   "metadata": {},
   "outputs": [],
   "source": [
    "import os\n",
    "import sys"
   ]
  },
  {
   "cell_type": "code",
   "execution_count": null,
   "id": "221a1f09",
   "metadata": {},
   "outputs": [],
   "source": [
    "class TradingBotException(Exception):\n",
    "    def __init__(self,error_message,error_details:sys):\n",
    "        self.error_message = error_message\n",
    "        _,_,exc_tb = error_details.exc_info()\n",
    "        \n",
    "        self.lineno=exc_tb.tb_lineno\n",
    "        self.file_name=exc_tb.tb_frame.f_code.co_filename \n",
    "    \n",
    "    def __str__(self):\n",
    "        return \"Error occured in python script name [{0}] line number [{1}] error message [{2}]\".format(\n",
    "        self.file_name, self.lineno, str(self.error_message))"
   ]
  },
  {
   "cell_type": "code",
   "execution_count": null,
   "id": "14be4fd0",
   "metadata": {},
   "outputs": [],
   "source": [
    "try:\n",
    "    a=1/0\n",
    "    print(\"This will not be printed\",a)\n",
    "except Exception as e:\n",
    "    raise TradingBotException(e,sys)"
   ]
  }
 ],
 "metadata": {
  "kernelspec": {
   "display_name": "env",
   "language": "python",
   "name": "python3"
  },
  "language_info": {
   "name": "python",
   "version": "3.10.16"
  }
 },
 "nbformat": 4,
 "nbformat_minor": 5
}
